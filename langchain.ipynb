{
 "cells": [
  {
   "cell_type": "markdown",
   "metadata": {},
   "source": [
    "# **LangChain**"
   ]
  },
  {
   "cell_type": "code",
   "execution_count": null,
   "metadata": {},
   "outputs": [],
   "source": [
    "# Importing OpenAI (LangChain) LLMs\n",
    "\n",
    "from langchain.llms import OpenAI\n"
   ]
  },
  {
   "cell_type": "code",
   "execution_count": 4,
   "metadata": {},
   "outputs": [],
   "source": [
    "# Putting OpenAI API Secret Key into work (Importing the API Key)\n",
    "\n",
    "import os\n",
    "os.environ[\"OPENAI_API_KEY\"] = \"\""
   ]
  },
  {
   "cell_type": "code",
   "execution_count": 5,
   "metadata": {},
   "outputs": [
    {
     "name": "stderr",
     "output_type": "stream",
     "text": [
      "C:\\Users\\dpsvn\\AppData\\Local\\Temp\\ipykernel_16772\\2137233176.py:3: LangChainDeprecationWarning: The class `OpenAI` was deprecated in LangChain 0.0.10 and will be removed in 1.0. An updated version of the class exists in the :class:`~langchain-openai package and should be used instead. To use it run `pip install -U :class:`~langchain-openai` and import as `from :class:`~langchain_openai import OpenAI``.\n",
      "  llm = OpenAI(temperature = 0.6)\n"
     ]
    }
   ],
   "source": [
    "# Creating the LLM Model\n",
    "\n",
    "llm = OpenAI(temperature = 0.6)\n",
    "\n",
    "'''\n",
    "You can also execute 👇\n",
    "\n",
    ">> llm = OpenAI(openai_api = os.environ[\"OPENAI_API_KEY\"], temperature = 0.6)\n",
    "'''"
   ]
  },
  {
   "cell_type": "markdown",
   "metadata": {},
   "source": [
    "In OpenAI's API, **temperature** controls the randomness of responses:\n",
    "\n",
    "- **Low temperature (e.g., 0.2):** More focused and deterministic; ideal for factual or precise tasks.\n",
    "- **High temperature (e.g., 0.8):** More creative and diverse; good for storytelling or brainstorming.\n",
    "- **0 = Fully predictable**, **1+ = Highly random**.\n",
    "\n",
    "Choose low for accuracy, high for creativity"
   ]
  },
  {
   "cell_type": "code",
   "execution_count": null,
   "metadata": {},
   "outputs": [],
   "source": []
  }
 ],
 "metadata": {
  "kernelspec": {
   "display_name": "Python 3",
   "language": "python",
   "name": "python3"
  },
  "language_info": {
   "codemirror_mode": {
    "name": "ipython",
    "version": 3
   },
   "file_extension": ".py",
   "mimetype": "text/x-python",
   "name": "python",
   "nbconvert_exporter": "python",
   "pygments_lexer": "ipython3",
   "version": "3.11.11"
  }
 },
 "nbformat": 4,
 "nbformat_minor": 2
}
